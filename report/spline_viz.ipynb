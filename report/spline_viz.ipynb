{
 "cells": [
  {
   "cell_type": "code",
   "execution_count": 1,
   "metadata": {
    "collapsed": true
   },
   "outputs": [],
   "source": [
    "import matplotlib.pyplot as plt\n",
    "%matplotlib inline"
   ]
  },
  {
   "cell_type": "code",
   "execution_count": 7,
   "metadata": {
    "collapsed": false
   },
   "outputs": [],
   "source": [
    "with open('../video/deliver.txt') as f:\n",
    "    data = f.read()\n",
    "    data = data.split('- - - - - - - - - - - - - - - - - - - - - - - - - - - - - -')[1:]"
   ]
  },
  {
   "cell_type": "code",
   "execution_count": 53,
   "metadata": {
    "collapsed": true
   },
   "outputs": [],
   "source": [
    "i = 1595"
   ]
  },
  {
   "cell_type": "code",
   "execution_count": 68,
   "metadata": {
    "collapsed": false
   },
   "outputs": [
    {
     "data": {
      "text/plain": [
       "' \\nx:1968.9\\t y:3001.92\\t yaw:183.735\\ns:3350.03\\t d:6.03305\\t speed:37.7764\\ttarget speed:49.5\\nlane:0\\tref speed:39.9517\\nPrevious path size: 45\\t consumed 5 waypoints\\nconsumed 5 waypoints\\nprevious path:\\n(1968.566,3001.895),(1968.229,3001.874),(1967.892,3001.852),(1967.555,3001.831),(1967.218,3001.81),(1966.881,3001.789),(1966.544,3001.768),(1966.207,3001.748),(1965.87,3001.727),(1965.533,3001.707),(1965.196,3001.687),(1964.859,3001.667),(1964.522,3001.647),(1964.185,3001.628),(1963.847,3001.609),(1963.51,3001.59),(1963.173,3001.571),(1962.836,3001.552),(1962.498,3001.534),(1962.161,3001.516),(1961.824,3001.497),(1961.486,3001.476),(1961.148,3001.454),(1960.81,3001.429),(1960.472,3001.402),(1960.13,3001.373),(1959.787,3001.343),(1959.445,3001.311),(1959.103,3001.277),(1958.761,3001.242),(1958.415,3001.205),(1958.069,3001.167),(1957.723,3001.128),(1957.377,3001.088),(1957.027,3001.047),(1956.677,3001.004),(1956.328,3000.96),(1955.979,3000.915),(1955.629,3000.869),(1955.28,3000.822),(1954.927,3000.774),(1954.574,3000.724),(1954.221,3000.674),(1953.868,3000.624),(1953.516,3000.572),\\nPHASE | Checking other cars...\\nCar 0\\tv:35.334\\ts:3276.98\\td:9.96449\\nCar 1\\tv:27.7581\\ts:3324.6\\td:6.05735\\nCar 2\\tv:47.2439\\ts:3215.69\\td:6.18861\\nCar 3\\tv:37.7196\\ts:3354.66\\td:10.062\\nCar 4\\tv:46.0671\\ts:3248.04\\td:1.86093\\nCar 5\\tv:39.15\\ts:3207.18\\td:10.1735\\nCar 6\\tv:40.4868\\ts:3298.55\\td:2.40093\\nCar 7\\tv:43.3672\\ts:3271.21\\td:1.98775\\nCar 8\\tv:36.8035\\ts:3257.01\\td:9.98971\\nCar 9\\tv:40.8202\\ts:3185.02\\td:10.3003\\nCar 10\\tv:33.8914\\ts:3335.89\\td:2.07706\\nCar 11\\tv:38.1993\\ts:3378.57\\td:5.84042\\ncar_ahead (0): 11\\tcar_left (0): 10\\tcar_right (1): 11\\nPHASE | decision making...\\nlane speeds: 0:49.5\\t2:49.5\\t1:38.1993\\t\\nPHASE | Starting trajectory generation...\\nptsx ptsy raw5\\nptsx size=5\\nptsy size=5\\ni 0 x = 1953.87 y = 3000.62\\ni 1 x = 1953.52 y = 3000.57\\ni 2 x = 1923.62 y = 2995.4\\ni 3 x = 1893.68 y = 2992.38\\ni 4 x = 1863.91 y = 2988.04\\nptsx ptsy transformed5\\nptsx size=5\\nptsy size=5\\ni 0 x = -0.35582 y = -2.08167e-17\\ni 1 x = -0 y = 0\\ni 2 x = 30.3264 y = 0.743815\\ni 3 x = 60.3905 y = -0.640757\\ni 4 x = 90.4767 y = -0.694271\\nnext path:\\n(1968.57,3001.89),(1968.23,3001.87),(1967.89,3001.85),(1967.56,3001.83),(1967.22,3001.81),(1966.88,3001.79),(1966.54,3001.77),(1966.21,3001.75),(1965.87,3001.73),(1965.53,3001.71),(1965.2,3001.69),(1964.86,3001.67),(1964.52,3001.65),(1964.18,3001.63),(1963.85,3001.61),(1963.51,3001.59),(1963.17,3001.57),(1962.84,3001.55),(1962.5,3001.53),(1962.16,3001.52),(1961.82,3001.5),(1961.49,3001.48),(1961.15,3001.45),(1960.81,3001.43),(1960.47,3001.4),(1960.13,3001.37),(1959.79,3001.34),(1959.44,3001.31),(1959.1,3001.28),(1958.76,3001.24),(1958.41,3001.2),(1958.07,3001.17),(1957.72,3001.13),(1957.38,3001.09),(1957.03,3001.05),(1956.68,3001),(1956.33,3000.96),(1955.98,3000.91),(1955.63,3000.87),(1955.28,3000.82),(1954.93,3000.77),(1954.57,3000.72),(1954.22,3000.67),(1953.87,3000.62),(1953.52,3000.57),(1953.16,3000.52),(1952.8,3000.46),(1952.45,3000.41),(1952.09,3000.36),(1951.73,3000.3),(1951.38,3000.24),\\n'"
      ]
     },
     "execution_count": 68,
     "metadata": {},
     "output_type": "execute_result"
    }
   ],
   "source": [
    "data[i]"
   ]
  },
  {
   "cell_type": "code",
   "execution_count": 83,
   "metadata": {
    "collapsed": false
   },
   "outputs": [
    {
     "data": {
      "image/png": "[encoded data removed]",
      "text/plain": [
       "<matplotlib.figure.Figure at 0x7fe18e6888d0>"
      ]
     },
     "metadata": {},
     "output_type": "display_data"
    }
   ],
   "source": [
    "p = data[i].split('next path:\\n')[1]\n",
    "p = p.split('(')[1:]\n",
    "x = [a.split(',')[0] for a in p]\n",
    "y = [a.split(',')[-2].split(')')[0] for a in p]\n",
    "\n",
    "x = [float(a) for a in x]\n",
    "y = [float(a) for a in y]\n",
    "plt.plot(x,y,'.', label='spline path')\n",
    "\n",
    "xi = [x[0]] + [x[-1]]\n",
    "yi = [y[0]] + [y[-1]]\n",
    "plt.plot(xi,yi, label='hypotenuse path')\n",
    "\n",
    "plt.title('iteration {}'.format(i))\n",
    "plt.xlabel('x')\n",
    "plt.ylabel('y')\n",
    "plt.legend()\n",
    "\n",
    "plt.savefig('spline_plot.png')"
   ]
  },
  {
   "cell_type": "code",
   "execution_count": 82,
   "metadata": {
    "collapsed": false
   },
   "outputs": [
    {
     "data": {
      "text/plain": [
       "<matplotlib.figure.Figure at 0x7fe18ea6fc50>"
      ]
     },
     "metadata": {},
     "output_type": "display_data"
    }
   ],
   "source": []
  },
  {
   "cell_type": "code",
   "execution_count": 44,
   "metadata": {
    "collapsed": true
   },
   "outputs": [],
   "source": [
    "for i,d in enumerate(data):\n",
    "    if 'lane:0' in d:\n",
    "        break"
   ]
  },
  {
   "cell_type": "code",
   "execution_count": 45,
   "metadata": {
    "collapsed": false
   },
   "outputs": [
    {
     "data": {
      "text/plain": [
       "1602"
      ]
     },
     "execution_count": 45,
     "metadata": {},
     "output_type": "execute_result"
    }
   ],
   "source": [
    "i"
   ]
  }
 ],
 "metadata": {
  "kernelspec": {
   "display_name": "Python 3",
   "language": "python",
   "name": "python3"
  },
  "language_info": {
   "codemirror_mode": {
    "name": "ipython",
    "version": 3
   },
   "file_extension": ".py",
   "mimetype": "text/x-python",
   "name": "python",
   "nbconvert_exporter": "python",
   "pygments_lexer": "ipython3",
   "version": "3.4.3"
  }
 },
 "nbformat": 4,
 "nbformat_minor": 2
}
